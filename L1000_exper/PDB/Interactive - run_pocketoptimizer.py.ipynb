{
 "cells": [
  {
   "cell_type": "code",
   "execution_count": null,
   "id": "d9715670-0fe5-4f0f-9ee5-c7a2dbcc189e",
   "metadata": {},
   "outputs": [],
   "source": [
    "# Append the PocketOptimizer Code\n",
    "import sys\n",
    "sys.path.append('/home/rquiroga/github/pocketoptimizer')\n",
    "\n",
    "# Import the pocketoptimizer module\n",
    "import pocketoptimizer as po\n",
    "\n",
    "project_dir=.\n",
    "# Initialize a new design pipeline\n",
    "design = po.DesignPipeline(work_dir=project_dir,         # Path to working directory containing scaffold and ligand subdirectory\n",
    "                           ph=7,                         # pH used for protein and ligand protonation\n",
    "                           forcefield='amber_ff14SB',    # forcefield used for all energy computations (Use Amber as it is better tested!)\n",
    "                           ncpus=8)                      # Number of CPUs for multiprocessing"
   ]
  },
  {
   "cell_type": "code",
   "execution_count": 1,
   "metadata": {},
   "outputs": [
    {
     "ename": "SyntaxError",
     "evalue": "invalid syntax (<ipython-input-1-bd4fd2b5eace>, line 8)",
     "output_type": "error",
     "traceback": [
      "\u001b[0;36m  Cell \u001b[0;32mIn[1], line 8\u001b[0;36m\u001b[0m\n\u001b[0;31m    project_dir=.\u001b[0m\n\u001b[0m                ^\u001b[0m\n\u001b[0;31mSyntaxError\u001b[0m\u001b[0;31m:\u001b[0m invalid syntax\n"
     ]
    }
   ],
   "source": [
    "# Append the PocketOptimizer Code\n",
    "import sys\n",
    "sys.path.append('/home/rquiroga/github/pocketoptimizer')\n",
    "\n",
    "# Import the pocketoptimizer module\n",
    "import pocketoptimizer as po\n",
    "\n",
    "project_dir=.\n",
    "# Initialize a new design pipeline\n",
    "design = po.DesignPipeline(work_dir=project_dir,         # Path to working directory containing scaffold and ligand subdirectory\n",
    "                           ph=7,                         # pH used for protein and ligand protonation\n",
    "                           forcefield='amber_ff14SB',    # forcefield used for all energy computations (Use Amber as it is better tested!)\n",
    "                           ncpus=8)                      # Number of CPUs for multiprocessing\n",
    "                           \n"
   ]
  },
  {
   "cell_type": "markdown",
   "metadata": {},
   "source": [
    "Connected to pocketoptimizer (Python 3.10.13)"
   ]
  },
  {
   "cell_type": "code",
   "execution_count": 2,
   "metadata": {},
   "outputs": [
    {
     "name": "stderr",
     "output_type": "stream",
     "text": [
      "2024-08-16 15:43:28,677 - pocketoptimizer.ui - INFO - Logging to: ./pocketoptimizer.log\n"
     ]
    }
   ],
   "source": [
    "# Append the PocketOptimizer Code\n",
    "import sys\n",
    "sys.path.append('/home/rquiroga/github/pocketoptimizer')\n",
    "\n",
    "# Import the pocketoptimizer module\n",
    "import pocketoptimizer as po\n",
    "\n",
    "project_dir=\".\"\n",
    "# Initialize a new design pipeline\n",
    "design = po.DesignPipeline(work_dir=project_dir,         # Path to working directory containing scaffold and ligand subdirectory\n",
    "                           ph=7,                         # pH used for protein and ligand protonation\n",
    "                           forcefield='amber_ff14SB',    # forcefield used for all energy computations (Use Amber as it is better tested!)\n",
    "                           ncpus=8)                      # Number of CPUs for multiprocessing\n",
    "                           "
   ]
  },
  {
   "cell_type": "code",
   "execution_count": 3,
   "metadata": {},
   "outputs": [
    {
     "name": "stderr",
     "output_type": "stream",
     "text": [
      "2024-08-16 15:45:05,618 - numexpr.utils - INFO - Note: NumExpr detected 24 cores but \"NUMEXPR_MAX_THREADS\" not set, so enforcing safe limit of 8.\n",
      "2024-08-16 15:45:05,618 - numexpr.utils - INFO - NumExpr defaulting to 8 threads.\n",
      "2024-08-16 15:45:05,837 - root - WARNING - Warning: importing 'simtk.openmm' is deprecated.  Import 'openmm' instead.\n",
      "2024-08-16 15:45:05,881 - pocketoptimizer.ui - INFO - Start Protein Preparation.\n"
     ]
    },
    {
     "ename": "FileNotFoundError",
     "evalue": "File ./4k2y_protein.pdb was not found.",
     "output_type": "error",
     "traceback": [
      "\u001b[0;31m---------------------------------------------------------------------------\u001b[0m",
      "\u001b[0;31mFileNotFoundError\u001b[0m                         Traceback (most recent call last)",
      "Cell \u001b[0;32mIn[3], line 1\u001b[0m\n\u001b[0;32m----> 1\u001b[0m design\u001b[39m.\u001b[39;49mprepare_protein(\n\u001b[1;32m      2\u001b[0m     protein_structure\u001b[39m=\u001b[39;49m\u001b[39m'\u001b[39;49m\u001b[39m4k2y_protein.pdb\u001b[39;49m\u001b[39m'\u001b[39;49m,  \u001b[39m# Input PDB\u001b[39;49;00m\n\u001b[1;32m      3\u001b[0m     keep_chains\u001b[39m=\u001b[39;49m[\u001b[39m'\u001b[39;49m\u001b[39mA\u001b[39;49m\u001b[39m'\u001b[39;49m],  \u001b[39m# Specific protein chain to keep\u001b[39;49;00m\n\u001b[1;32m      4\u001b[0m     backbone_restraint\u001b[39m=\u001b[39;49m\u001b[39mTrue\u001b[39;49;00m, \u001b[39m# Restrains the backbone during the minimization\u001b[39;49;00m\n\u001b[1;32m      5\u001b[0m     cuda\u001b[39m=\u001b[39;49m\u001b[39mFalse\u001b[39;49;00m,              \u001b[39m# Performs minimization on CPU instead of GPU\u001b[39;49;00m\n\u001b[1;32m      6\u001b[0m     discard_mols\u001b[39m=\u001b[39;49m[]          \u001b[39m# Special molecules to exclude. Per default everything, but peptides have to be defined manually\u001b[39;49;00m\n\u001b[1;32m      7\u001b[0m     )\n",
      "File \u001b[0;32m~/github/pocketoptimizer/pocketoptimizer/ui.py:289\u001b[0m, in \u001b[0;36mDesignPipeline.prepare_protein\u001b[0;34m(self, protein_structure, keep_chains, discard_mols, backbone_restraint, cuda)\u001b[0m\n\u001b[1;32m    285\u001b[0m system \u001b[39m=\u001b[39m SystemBuilder(design_pipeline\u001b[39m=\u001b[39m\u001b[39mself\u001b[39m,\n\u001b[1;32m    286\u001b[0m                        structure\u001b[39m=\u001b[39mos\u001b[39m.\u001b[39mpath\u001b[39m.\u001b[39mjoin(\u001b[39mself\u001b[39m\u001b[39m.\u001b[39mwork_dir, protein_structure))\n\u001b[1;32m    288\u001b[0m os\u001b[39m.\u001b[39mmakedirs(os\u001b[39m.\u001b[39mpath\u001b[39m.\u001b[39mdirname(\u001b[39mself\u001b[39m\u001b[39m.\u001b[39mprepared_protein), exist_ok\u001b[39m=\u001b[39m\u001b[39mTrue\u001b[39;00m)\n\u001b[0;32m--> 289\u001b[0m system\u001b[39m.\u001b[39;49mprepare_protein(keep_chains\u001b[39m=\u001b[39;49mkeep_chains,\n\u001b[1;32m    290\u001b[0m                        discard_mols\u001b[39m=\u001b[39;49mdiscard_mols)\n\u001b[1;32m    292\u001b[0m \u001b[39m# Check if there is a built scaffold\u001b[39;00m\n\u001b[1;32m    293\u001b[0m \u001b[39mif\u001b[39;00m \u001b[39mnot\u001b[39;00m os\u001b[39m.\u001b[39mpath\u001b[39m.\u001b[39misfile(\u001b[39mself\u001b[39m\u001b[39m.\u001b[39mbuilt_scaffold):\n\u001b[1;32m    294\u001b[0m     \u001b[39m# Minimize the structure with ligand in pocket\u001b[39;00m\n",
      "File \u001b[0;32m~/github/pocketoptimizer/pocketoptimizer/preparation/structure_building.py:59\u001b[0m, in \u001b[0;36mSystemBuilder.prepare_protein\u001b[0;34m(self, keep_chains, discard_mols)\u001b[0m\n\u001b[1;32m     56\u001b[0m \u001b[39m# check if protein is already prepared\u001b[39;00m\n\u001b[1;32m     57\u001b[0m \u001b[39mif\u001b[39;00m \u001b[39mnot\u001b[39;00m os\u001b[39m.\u001b[39mpath\u001b[39m.\u001b[39misfile(\u001b[39mself\u001b[39m\u001b[39m.\u001b[39mprepared_protein):\n\u001b[0;32m---> 59\u001b[0m     prot \u001b[39m=\u001b[39m Molecule(\u001b[39mself\u001b[39;49m\u001b[39m.\u001b[39;49mstructure)\n\u001b[1;32m     61\u001b[0m     \u001b[39m# Filter ligands, ions, waters out\u001b[39;00m\n\u001b[1;32m     62\u001b[0m     filter_str \u001b[39m=\u001b[39m \u001b[39mf\u001b[39m\u001b[39m'\u001b[39m\u001b[39mprotein\u001b[39m\u001b[39m'\u001b[39m\n",
      "File \u001b[0;32m~/anaconda3/envs/pocketoptimizer/lib/python3.10/site-packages/moleculekit/molecule.py:412\u001b[0m, in \u001b[0;36mMolecule.__init__\u001b[0;34m(self, filename, name, **kwargs)\u001b[0m\n\u001b[1;32m    409\u001b[0m \u001b[39mself\u001b[39m\u001b[39m.\u001b[39mviewname \u001b[39m=\u001b[39m name\n\u001b[1;32m    411\u001b[0m \u001b[39mif\u001b[39;00m filename \u001b[39mis\u001b[39;00m \u001b[39mnot\u001b[39;00m \u001b[39mNone\u001b[39;00m:\n\u001b[0;32m--> 412\u001b[0m     \u001b[39mself\u001b[39;49m\u001b[39m.\u001b[39;49mread(filename, \u001b[39m*\u001b[39;49m\u001b[39m*\u001b[39;49mkwargs)\n",
      "File \u001b[0;32m~/anaconda3/envs/pocketoptimizer/lib/python3.10/site-packages/moleculekit/molecule.py:1374\u001b[0m, in \u001b[0;36mMolecule.read\u001b[0;34m(self, filename, type, skip, frames, append, overwrite, keepaltloc, guess, guessNE, _logger, **kwargs)\u001b[0m\n\u001b[1;32m   1365\u001b[0m \u001b[39mfor\u001b[39;00m ff \u001b[39min\u001b[39;00m filename:\n\u001b[1;32m   1366\u001b[0m     \u001b[39mif\u001b[39;00m (\n\u001b[1;32m   1367\u001b[0m         \u001b[39mnot\u001b[39;00m \u001b[39misinstance\u001b[39m(ff, Sim)\n\u001b[1;32m   1368\u001b[0m         \u001b[39mand\u001b[39;00m \u001b[39mnot\u001b[39;00m \u001b[39misinstance\u001b[39m(ff, Frame)\n\u001b[0;32m   (...)\u001b[0m\n\u001b[1;32m   1372\u001b[0m         \u001b[39mand\u001b[39;00m \u001b[39mnot\u001b[39;00m ff\u001b[39m.\u001b[39mstartswith(\u001b[39m\"\u001b[39m\u001b[39mAF-\u001b[39m\u001b[39m\"\u001b[39m)\n\u001b[1;32m   1373\u001b[0m     ):\n\u001b[0;32m-> 1374\u001b[0m         \u001b[39mraise\u001b[39;00m \u001b[39mFileNotFoundError\u001b[39;00m(\u001b[39mf\u001b[39m\u001b[39m\"\u001b[39m\u001b[39mFile \u001b[39m\u001b[39m{\u001b[39;00mff\u001b[39m}\u001b[39;00m\u001b[39m was not found.\u001b[39m\u001b[39m\"\u001b[39m)\n\u001b[1;32m   1376\u001b[0m \u001b[39mif\u001b[39;00m \u001b[39mlen\u001b[39m(filename) \u001b[39m==\u001b[39m \u001b[39m1\u001b[39m \u001b[39mand\u001b[39;00m \u001b[39misinstance\u001b[39m(filename[\u001b[39m0\u001b[39m], Sim):\n\u001b[1;32m   1377\u001b[0m     \u001b[39mself\u001b[39m\u001b[39m.\u001b[39mread(filename[\u001b[39m0\u001b[39m]\u001b[39m.\u001b[39mmolfile)  \u001b[39m# TODO: Should pass all parameters here!!!\u001b[39;00m\n",
      "\u001b[0;31mFileNotFoundError\u001b[0m: File ./4k2y_protein.pdb was not found."
     ]
    }
   ],
   "source": [
    "design.prepare_protein(\n",
    "    protein_structure='4k2y_protein.pdb',  # Input PDB\n",
    "    keep_chains=['A'],  # Specific protein chain to keep\n",
    "    backbone_restraint=True, # Restrains the backbone during the minimization\n",
    "    cuda=False,              # Performs minimization on CPU instead of GPU\n",
    "    discard_mols=[]          # Special molecules to exclude. Per default everything, but peptides have to be defined manually\n",
    "    )"
   ]
  },
  {
   "cell_type": "code",
   "execution_count": 4,
   "metadata": {},
   "outputs": [
    {
     "name": "stderr",
     "output_type": "stream",
     "text": [
      "2024-08-16 15:45:46,883 - pocketoptimizer.ui - INFO - Logging to: /home/rquiroga/github/CASP16/L1000_exper/PDB/pocketoptimizer.log\n",
      "2024-08-16 15:45:46,884 - pocketoptimizer.ui - INFO - Start Protein Preparation.\n",
      "2024-08-16 15:45:46,946 - pocketoptimizer.preparation.structure_building - INFO - Protonate protein according to pH: 7.\n"
     ]
    },
    {
     "name": "stdout",
     "output_type": "stream",
     "text": [
      "\n",
      "---- Molecule chain report ----\n",
      "Chain A:\n",
      "    First residue: ILE    16  \n",
      "    Final residue: ASN   245  \n",
      "---- End of chain report ----\n",
      "\n"
     ]
    },
    {
     "name": "stderr",
     "output_type": "stream",
     "text": [
      "2024-08-16 15:45:48,070 - moleculekit.tools.preparation - INFO - Modified residue HIS    25 A to HID\n",
      "2024-08-16 15:45:48,071 - moleculekit.tools.preparation - INFO - Modified residue CYS    42 A to CYX\n",
      "2024-08-16 15:45:48,071 - moleculekit.tools.preparation - INFO - Modified residue HIS    57 A to HIP\n",
      "2024-08-16 15:45:48,072 - moleculekit.tools.preparation - INFO - Modified residue CYS    58 A to CYX\n",
      "2024-08-16 15:45:48,072 - moleculekit.tools.preparation - INFO - Modified residue HIS    71 A to HIE\n",
      "2024-08-16 15:45:48,072 - moleculekit.tools.preparation - INFO - Modified residue HIS    91 A to HID\n",
      "2024-08-16 15:45:48,073 - moleculekit.tools.preparation - INFO - Modified residue HIS   100 A to HIE\n",
      "2024-08-16 15:45:48,073 - moleculekit.tools.preparation - INFO - Modified residue HIS   101 A to HID\n",
      "2024-08-16 15:45:48,074 - moleculekit.tools.preparation - INFO - Modified residue CYS   136 A to CYX\n",
      "2024-08-16 15:45:48,074 - moleculekit.tools.preparation - INFO - Modified residue CYS   168 A to CYX\n",
      "2024-08-16 15:45:48,075 - moleculekit.tools.preparation - INFO - Modified residue HIS   172 A to HID\n",
      "2024-08-16 15:45:48,075 - moleculekit.tools.preparation - INFO - Modified residue HIS   177A A to HID\n",
      "2024-08-16 15:45:48,075 - moleculekit.tools.preparation - INFO - Modified residue CYS   182 A to CYX\n",
      "2024-08-16 15:45:48,076 - moleculekit.tools.preparation - INFO - Modified residue CYS   201 A to CYX\n",
      "2024-08-16 15:45:48,076 - moleculekit.tools.preparation - INFO - Modified residue HIS   233 A to HID\n",
      "2024-08-16 15:45:48,076 - moleculekit.tools.preparation - WARNING - Dubious protonation state: the pKa of 3 residues is within 1.0 units of pH 7.0.\n",
      "2024-08-16 15:45:48,077 - moleculekit.tools.preparation - WARNING - Dubious protonation state:    HIS    57 A (pKa= 7.62)\n",
      "2024-08-16 15:45:48,077 - moleculekit.tools.preparation - WARNING - Dubious protonation state:    HIS    71 A (pKa= 6.59)\n",
      "2024-08-16 15:45:48,078 - moleculekit.tools.preparation - WARNING - Dubious protonation state:    HIS   100 A (pKa= 6.75)\n",
      "2024-08-16 15:45:48,291 - pocketoptimizer.preparation.structure_building - INFO - Successfully prepared protein structure.\n",
      "2024-08-16 15:45:48,292 - pocketoptimizer.ui - INFO - Building complex.\n"
     ]
    },
    {
     "ename": "FileNotFoundError",
     "evalue": "File /home/rquiroga/github/CASP16/L1000_exper/PDB/ligand/amber_ff14SB/ligand.mol2 was not found.",
     "output_type": "error",
     "traceback": [
      "\u001b[0;31m---------------------------------------------------------------------------\u001b[0m",
      "\u001b[0;31mFileNotFoundError\u001b[0m                         Traceback (most recent call last)",
      "Cell \u001b[0;32mIn[4], line 9\u001b[0m\n\u001b[1;32m      2\u001b[0m \u001b[39m# Initialize a new design pipeline\u001b[39;00m\n\u001b[1;32m      3\u001b[0m design \u001b[39m=\u001b[39m po\u001b[39m.\u001b[39mDesignPipeline(work_dir\u001b[39m=\u001b[39mproject_dir,         \u001b[39m# Path to working directory containing scaffold and ligand subdirectory\u001b[39;00m\n\u001b[1;32m      4\u001b[0m                            ph\u001b[39m=\u001b[39m\u001b[39m7\u001b[39m,                         \u001b[39m# pH used for protein and ligand protonation\u001b[39;00m\n\u001b[1;32m      5\u001b[0m                            forcefield\u001b[39m=\u001b[39m\u001b[39m'\u001b[39m\u001b[39mamber_ff14SB\u001b[39m\u001b[39m'\u001b[39m,    \u001b[39m# forcefield used for all energy computations (Use Amber as it is better tested!)\u001b[39;00m\n\u001b[1;32m      6\u001b[0m                            ncpus\u001b[39m=\u001b[39m\u001b[39m8\u001b[39m)                      \u001b[39m# Number of CPUs for multiprocessing\u001b[39;00m\n\u001b[0;32m----> 9\u001b[0m design\u001b[39m.\u001b[39;49mprepare_protein(\n\u001b[1;32m     10\u001b[0m     protein_structure\u001b[39m=\u001b[39;49m\u001b[39m'\u001b[39;49m\u001b[39m4k2y_protein.pdb\u001b[39;49m\u001b[39m'\u001b[39;49m,  \u001b[39m# Input PDB\u001b[39;49;00m\n\u001b[1;32m     11\u001b[0m     keep_chains\u001b[39m=\u001b[39;49m[\u001b[39m'\u001b[39;49m\u001b[39mA\u001b[39;49m\u001b[39m'\u001b[39;49m],  \u001b[39m# Specific protein chain to keep\u001b[39;49;00m\n\u001b[1;32m     12\u001b[0m     backbone_restraint\u001b[39m=\u001b[39;49m\u001b[39mTrue\u001b[39;49;00m, \u001b[39m# Restrains the backbone during the minimization\u001b[39;49;00m\n\u001b[1;32m     13\u001b[0m     cuda\u001b[39m=\u001b[39;49m\u001b[39mFalse\u001b[39;49;00m,              \u001b[39m# Performs minimization on CPU instead of GPU\u001b[39;49;00m\n\u001b[1;32m     14\u001b[0m     discard_mols\u001b[39m=\u001b[39;49m[]          \u001b[39m# Special molecules to exclude. Per default everything, but peptides have to be defined manually\u001b[39;49;00m\n\u001b[1;32m     15\u001b[0m     )\n",
      "File \u001b[0;32m~/github/pocketoptimizer/pocketoptimizer/ui.py:297\u001b[0m, in \u001b[0;36mDesignPipeline.prepare_protein\u001b[0;34m(self, protein_structure, keep_chains, discard_mols, backbone_restraint, cuda)\u001b[0m\n\u001b[1;32m    295\u001b[0m logger\u001b[39m.\u001b[39minfo(\u001b[39m'\u001b[39m\u001b[39mBuilding complex.\u001b[39m\u001b[39m'\u001b[39m)\n\u001b[1;32m    296\u001b[0m \u001b[39m# Build the complex before minimization\u001b[39;00m\n\u001b[0;32m--> 297\u001b[0m system\u001b[39m.\u001b[39;49mbuild_complex()\n\u001b[1;32m    299\u001b[0m system\u001b[39m.\u001b[39mminimize_structure(\n\u001b[1;32m    300\u001b[0m     structure_path\u001b[39m=\u001b[39m\u001b[39mself\u001b[39m\u001b[39m.\u001b[39mbuilt_scaffold_params,\n\u001b[1;32m    301\u001b[0m     cuda\u001b[39m=\u001b[39mcuda,\n\u001b[1;32m    302\u001b[0m     restraint_bb\u001b[39m=\u001b[39mbackbone_restraint)\n\u001b[1;32m    304\u001b[0m logger\u001b[39m.\u001b[39minfo(\u001b[39m'\u001b[39m\u001b[39mYour protein was successfully minimized and can be used for design now.\u001b[39m\u001b[39m'\u001b[39m)\n",
      "File \u001b[0;32m~/github/pocketoptimizer/pocketoptimizer/preparation/structure_building.py:278\u001b[0m, in \u001b[0;36mSystemBuilder.build_complex\u001b[0;34m(self, sampling_pocket)\u001b[0m\n\u001b[1;32m    275\u001b[0m \u001b[39m# Merge scaffold and ligand into one molecule\u001b[39;00m\n\u001b[1;32m    276\u001b[0m prot \u001b[39m=\u001b[39m Molecule(\u001b[39mself\u001b[39m\u001b[39m.\u001b[39mstructure)\n\u001b[0;32m--> 278\u001b[0m lig \u001b[39m=\u001b[39m Molecule(\u001b[39mself\u001b[39;49m\u001b[39m.\u001b[39;49mligand_protonated)\n\u001b[1;32m    279\u001b[0m lig\u001b[39m.\u001b[39mset(\u001b[39m'\u001b[39m\u001b[39msegid\u001b[39m\u001b[39m'\u001b[39m, \u001b[39m'\u001b[39m\u001b[39mL\u001b[39m\u001b[39m'\u001b[39m)\n\u001b[1;32m    280\u001b[0m lig\u001b[39m.\u001b[39mset(\u001b[39m'\u001b[39m\u001b[39mchain\u001b[39m\u001b[39m'\u001b[39m, \u001b[39m'\u001b[39m\u001b[39mL\u001b[39m\u001b[39m'\u001b[39m)\n",
      "File \u001b[0;32m~/anaconda3/envs/pocketoptimizer/lib/python3.10/site-packages/moleculekit/molecule.py:412\u001b[0m, in \u001b[0;36mMolecule.__init__\u001b[0;34m(self, filename, name, **kwargs)\u001b[0m\n\u001b[1;32m    409\u001b[0m \u001b[39mself\u001b[39m\u001b[39m.\u001b[39mviewname \u001b[39m=\u001b[39m name\n\u001b[1;32m    411\u001b[0m \u001b[39mif\u001b[39;00m filename \u001b[39mis\u001b[39;00m \u001b[39mnot\u001b[39;00m \u001b[39mNone\u001b[39;00m:\n\u001b[0;32m--> 412\u001b[0m     \u001b[39mself\u001b[39;49m\u001b[39m.\u001b[39;49mread(filename, \u001b[39m*\u001b[39;49m\u001b[39m*\u001b[39;49mkwargs)\n",
      "File \u001b[0;32m~/anaconda3/envs/pocketoptimizer/lib/python3.10/site-packages/moleculekit/molecule.py:1374\u001b[0m, in \u001b[0;36mMolecule.read\u001b[0;34m(self, filename, type, skip, frames, append, overwrite, keepaltloc, guess, guessNE, _logger, **kwargs)\u001b[0m\n\u001b[1;32m   1365\u001b[0m \u001b[39mfor\u001b[39;00m ff \u001b[39min\u001b[39;00m filename:\n\u001b[1;32m   1366\u001b[0m     \u001b[39mif\u001b[39;00m (\n\u001b[1;32m   1367\u001b[0m         \u001b[39mnot\u001b[39;00m \u001b[39misinstance\u001b[39m(ff, Sim)\n\u001b[1;32m   1368\u001b[0m         \u001b[39mand\u001b[39;00m \u001b[39mnot\u001b[39;00m \u001b[39misinstance\u001b[39m(ff, Frame)\n\u001b[0;32m   (...)\u001b[0m\n\u001b[1;32m   1372\u001b[0m         \u001b[39mand\u001b[39;00m \u001b[39mnot\u001b[39;00m ff\u001b[39m.\u001b[39mstartswith(\u001b[39m\"\u001b[39m\u001b[39mAF-\u001b[39m\u001b[39m\"\u001b[39m)\n\u001b[1;32m   1373\u001b[0m     ):\n\u001b[0;32m-> 1374\u001b[0m         \u001b[39mraise\u001b[39;00m \u001b[39mFileNotFoundError\u001b[39;00m(\u001b[39mf\u001b[39m\u001b[39m\"\u001b[39m\u001b[39mFile \u001b[39m\u001b[39m{\u001b[39;00mff\u001b[39m}\u001b[39;00m\u001b[39m was not found.\u001b[39m\u001b[39m\"\u001b[39m)\n\u001b[1;32m   1376\u001b[0m \u001b[39mif\u001b[39;00m \u001b[39mlen\u001b[39m(filename) \u001b[39m==\u001b[39m \u001b[39m1\u001b[39m \u001b[39mand\u001b[39;00m \u001b[39misinstance\u001b[39m(filename[\u001b[39m0\u001b[39m], Sim):\n\u001b[1;32m   1377\u001b[0m     \u001b[39mself\u001b[39m\u001b[39m.\u001b[39mread(filename[\u001b[39m0\u001b[39m]\u001b[39m.\u001b[39mmolfile)  \u001b[39m# TODO: Should pass all parameters here!!!\u001b[39;00m\n",
      "\u001b[0;31mFileNotFoundError\u001b[0m: File /home/rquiroga/github/CASP16/L1000_exper/PDB/ligand/amber_ff14SB/ligand.mol2 was not found."
     ]
    }
   ],
   "source": [
    "project_dir=\"/home/rquiroga/github/CASP16/L1000_exper/PDB\"\n",
    "# Initialize a new design pipeline\n",
    "design = po.DesignPipeline(work_dir=project_dir,         # Path to working directory containing scaffold and ligand subdirectory\n",
    "                           ph=7,                         # pH used for protein and ligand protonation\n",
    "                           forcefield='amber_ff14SB',    # forcefield used for all energy computations (Use Amber as it is better tested!)\n",
    "                           ncpus=8)                      # Number of CPUs for multiprocessing\n",
    "\n",
    "\n",
    "design.prepare_protein(\n",
    "    protein_structure='4k2y_protein.pdb',  # Input PDB\n",
    "    keep_chains=['A'],  # Specific protein chain to keep\n",
    "    backbone_restraint=True, # Restrains the backbone during the minimization\n",
    "    cuda=False,              # Performs minimization on CPU instead of GPU\n",
    "    discard_mols=[]          # Special molecules to exclude. Per default everything, but peptides have to be defined manually\n",
    "    )"
   ]
  },
  {
   "cell_type": "code",
   "execution_count": 5,
   "metadata": {},
   "outputs": [
    {
     "name": "stderr",
     "output_type": "stream",
     "text": [
      "2024-08-16 16:03:07,359 - pocketoptimizer.preparation.structure_building - INFO - Adding hydrogen atoms to the ligand according to pH: 7.\n",
      "2024-08-16 16:03:07,416 - pocketoptimizer.preparation.structure_building - INFO - Parameterize ligand for GAFF2.\n",
      "2024-08-16 16:03:07,484 - pocketoptimizer.preparation.structure_building - INFO - Ligand parametrization was successful.\n"
     ]
    }
   ],
   "source": [
    "design.parameterize_ligand(\n",
    "input_ligand='L1012_ligand_1.mol2', # Input ligand structure file could be .mol2/.sdf\n",
    "addHs=True                              # Whether to add hydrogen atoms to the input structure\n",
    ")"
   ]
  },
  {
   "cell_type": "code",
   "execution_count": 6,
   "metadata": {},
   "outputs": [
    {
     "name": "stderr",
     "output_type": "stream",
     "text": [
      "2024-08-16 16:03:14,075 - pocketoptimizer.ui - INFO - Start Protein Preparation.\n",
      "2024-08-16 16:03:14,076 - pocketoptimizer.preparation.structure_building - INFO - Protein is already prepared.\n",
      "2024-08-16 16:03:14,077 - pocketoptimizer.ui - INFO - Building complex.\n",
      "2024-08-16 16:03:14,134 - pocketoptimizer.preparation.structure_building - INFO - Build native complex.\n"
     ]
    },
    {
     "ename": "RuntimeError",
     "evalue": "Atoms [0,1,...,1679] do not have segid defined.",
     "output_type": "error",
     "traceback": [
      "\u001b[0;31m---------------------------------------------------------------------------\u001b[0m",
      "\u001b[0;31mRuntimeError\u001b[0m                              Traceback (most recent call last)",
      "Cell \u001b[0;32mIn[6], line 1\u001b[0m\n\u001b[0;32m----> 1\u001b[0m design\u001b[39m.\u001b[39;49mprepare_protein(\n\u001b[1;32m      2\u001b[0m     protein_structure\u001b[39m=\u001b[39;49m\u001b[39m'\u001b[39;49m\u001b[39m4k2y_protein.pdb\u001b[39;49m\u001b[39m'\u001b[39;49m,  \u001b[39m# Input PDB\u001b[39;49;00m\n\u001b[1;32m      3\u001b[0m     keep_chains\u001b[39m=\u001b[39;49m[\u001b[39m'\u001b[39;49m\u001b[39mA\u001b[39;49m\u001b[39m'\u001b[39;49m],  \u001b[39m# Specific protein chain to keep\u001b[39;49;00m\n\u001b[1;32m      4\u001b[0m     backbone_restraint\u001b[39m=\u001b[39;49m\u001b[39mTrue\u001b[39;49;00m, \u001b[39m# Restrains the backbone during the minimization\u001b[39;49;00m\n\u001b[1;32m      5\u001b[0m     cuda\u001b[39m=\u001b[39;49m\u001b[39mFalse\u001b[39;49;00m,              \u001b[39m# Performs minimization on CPU instead of GPU\u001b[39;49;00m\n\u001b[1;32m      6\u001b[0m     discard_mols\u001b[39m=\u001b[39;49m[]          \u001b[39m# Special molecules to exclude. Per default everything, but peptides have to be defined manually\u001b[39;49;00m\n\u001b[1;32m      7\u001b[0m     )\n",
      "File \u001b[0;32m~/github/pocketoptimizer/pocketoptimizer/ui.py:297\u001b[0m, in \u001b[0;36mDesignPipeline.prepare_protein\u001b[0;34m(self, protein_structure, keep_chains, discard_mols, backbone_restraint, cuda)\u001b[0m\n\u001b[1;32m    295\u001b[0m logger\u001b[39m.\u001b[39minfo(\u001b[39m'\u001b[39m\u001b[39mBuilding complex.\u001b[39m\u001b[39m'\u001b[39m)\n\u001b[1;32m    296\u001b[0m \u001b[39m# Build the complex before minimization\u001b[39;00m\n\u001b[0;32m--> 297\u001b[0m system\u001b[39m.\u001b[39;49mbuild_complex()\n\u001b[1;32m    299\u001b[0m system\u001b[39m.\u001b[39mminimize_structure(\n\u001b[1;32m    300\u001b[0m     structure_path\u001b[39m=\u001b[39m\u001b[39mself\u001b[39m\u001b[39m.\u001b[39mbuilt_scaffold_params,\n\u001b[1;32m    301\u001b[0m     cuda\u001b[39m=\u001b[39mcuda,\n\u001b[1;32m    302\u001b[0m     restraint_bb\u001b[39m=\u001b[39mbackbone_restraint)\n\u001b[1;32m    304\u001b[0m logger\u001b[39m.\u001b[39minfo(\u001b[39m'\u001b[39m\u001b[39mYour protein was successfully minimized and can be used for design now.\u001b[39m\u001b[39m'\u001b[39m)\n",
      "File \u001b[0;32m~/github/pocketoptimizer/pocketoptimizer/preparation/structure_building.py:303\u001b[0m, in \u001b[0;36mSystemBuilder.build_complex\u001b[0;34m(self, sampling_pocket)\u001b[0m\n\u001b[1;32m    301\u001b[0m \u001b[39mif\u001b[39;00m \u001b[39mnot\u001b[39;00m os\u001b[39m.\u001b[39mpath\u001b[39m.\u001b[39misfile(os\u001b[39m.\u001b[39mpath\u001b[39m.\u001b[39mjoin(native_complex_path, \u001b[39m'\u001b[39m\u001b[39mstructure.pdb\u001b[39m\u001b[39m'\u001b[39m)):\n\u001b[1;32m    302\u001b[0m     logger\u001b[39m.\u001b[39minfo(\u001b[39m'\u001b[39m\u001b[39mBuild native complex.\u001b[39m\u001b[39m'\u001b[39m)\n\u001b[0;32m--> 303\u001b[0m     \u001b[39mself\u001b[39;49m\u001b[39m.\u001b[39;49mbuild_ff(\n\u001b[1;32m    304\u001b[0m         structure\u001b[39m=\u001b[39;49mmol,\n\u001b[1;32m    305\u001b[0m         outdir\u001b[39m=\u001b[39;49mnative_complex_path)\n\u001b[1;32m    306\u001b[0m \u001b[39melse\u001b[39;00m:\n\u001b[1;32m    307\u001b[0m     logger\u001b[39m.\u001b[39minfo(\u001b[39m'\u001b[39m\u001b[39mNative complex already built.\u001b[39m\u001b[39m'\u001b[39m)\n",
      "File \u001b[0;32m~/github/pocketoptimizer/pocketoptimizer/preparation/structure_building.py:453\u001b[0m, in \u001b[0;36mSystemBuilder.build_ff\u001b[0;34m(self, structure, outdir, renumber)\u001b[0m\n\u001b[1;32m    450\u001b[0m     caps[i] \u001b[39m=\u001b[39m [\u001b[39m'\u001b[39m\u001b[39mnone\u001b[39m\u001b[39m'\u001b[39m, \u001b[39m'\u001b[39m\u001b[39mnone\u001b[39m\u001b[39m'\u001b[39m]\n\u001b[1;32m    452\u001b[0m \u001b[39m# Only create the input files with htmd, since we need to modify the tleap.in file\u001b[39;00m\n\u001b[0;32m--> 453\u001b[0m amber\u001b[39m.\u001b[39;49mbuild(\n\u001b[1;32m    454\u001b[0m     mol\u001b[39m=\u001b[39;49mstructure,\n\u001b[1;32m    455\u001b[0m     ff\u001b[39m=\u001b[39;49m[\u001b[39m'\u001b[39;49m\u001b[39mleaprc.gaff2\u001b[39;49m\u001b[39m'\u001b[39;49m, \u001b[39m'\u001b[39;49m\u001b[39mleaprc.protein.ff14SB\u001b[39;49m\u001b[39m'\u001b[39;49m],\n\u001b[1;32m    456\u001b[0m     topo\u001b[39m=\u001b[39;49mtopo,\n\u001b[1;32m    457\u001b[0m     param\u001b[39m=\u001b[39;49mparam,\n\u001b[1;32m    458\u001b[0m     ionize\u001b[39m=\u001b[39;49m\u001b[39mFalse\u001b[39;49;00m,\n\u001b[1;32m    459\u001b[0m     outdir\u001b[39m=\u001b[39;49moutdir,\n\u001b[1;32m    460\u001b[0m     caps\u001b[39m=\u001b[39;49mcaps,\n\u001b[1;32m    461\u001b[0m     execute\u001b[39m=\u001b[39;49m\u001b[39mFalse\u001b[39;49;00m\n\u001b[1;32m    462\u001b[0m )\n\u001b[1;32m    463\u001b[0m \u001b[39mif\u001b[39;00m os\u001b[39m.\u001b[39mpath\u001b[39m.\u001b[39misfile(os\u001b[39m.\u001b[39mpath\u001b[39m.\u001b[39mjoin(outdir, \u001b[39m'\u001b[39m\u001b[39mtleap.in\u001b[39m\u001b[39m'\u001b[39m)):\n\u001b[1;32m    464\u001b[0m     \u001b[39mwith\u001b[39;00m \u001b[39mopen\u001b[39m(os\u001b[39m.\u001b[39mpath\u001b[39m.\u001b[39mjoin(outdir, \u001b[39m'\u001b[39m\u001b[39mtleap.in\u001b[39m\u001b[39m'\u001b[39m), \u001b[39m'\u001b[39m\u001b[39mr\u001b[39m\u001b[39m'\u001b[39m) \u001b[39mas\u001b[39;00m input_file:\n",
      "File \u001b[0;32m~/anaconda3/envs/pocketoptimizer/lib/python3.10/site-packages/htmd/builder/amber.py:749\u001b[0m, in \u001b[0;36mbuild\u001b[0;34m(mol, ff, topo, param, prefix, outdir, caps, ionize, saltconc, saltanion, saltcation, disulfide, teleap, teleapimports, execute, atomtypes, offlibraries, gbsa, igb, custombonds, remove)\u001b[0m\n\u001b[1;32m    743\u001b[0m \u001b[39mif\u001b[39;00m \u001b[39mall\u001b[39m(ff19tip3p):\n\u001b[1;32m    744\u001b[0m     logger\u001b[39m.\u001b[39mwarning(\n\u001b[1;32m    745\u001b[0m         \u001b[39m\"\u001b[39m\u001b[39mCAUTION: AMBER Forcefield ff19SB is NOT compatible with TIP3P water model.\u001b[39m\u001b[39m\"\u001b[39m\n\u001b[1;32m    746\u001b[0m         \u001b[39m\"\u001b[39m\u001b[39m Consider using ff14SB instead or using the OPC water model.\u001b[39m\u001b[39m\"\u001b[39m\n\u001b[1;32m    747\u001b[0m     )\n\u001b[0;32m--> 749\u001b[0m disulfide, custombonds, remove \u001b[39m=\u001b[39m _prepareMolecule(\n\u001b[1;32m    750\u001b[0m     mol, caps, disulfide, custombonds, remove\n\u001b[1;32m    751\u001b[0m )\n\u001b[1;32m    752\u001b[0m _detect_cofactors_ncaa_ptm(mol, param, topo)\n\u001b[1;32m    754\u001b[0m \u001b[39mif\u001b[39;00m ionize:\n",
      "File \u001b[0;32m~/anaconda3/envs/pocketoptimizer/lib/python3.10/site-packages/htmd/builder/amber.py:508\u001b[0m, in \u001b[0;36m_prepareMolecule\u001b[0;34m(mol, caps, disulfide, custombonds, remove)\u001b[0m\n\u001b[1;32m    505\u001b[0m mol\u001b[39m.\u001b[39mdeleteBonds(\u001b[39m\"\u001b[39m\u001b[39mall\u001b[39m\u001b[39m\"\u001b[39m)\n\u001b[1;32m    507\u001b[0m \u001b[39m# Check for missing segids or mixed protein / non-protein segments\u001b[39;00m\n\u001b[0;32m--> 508\u001b[0m _missingSegID(mol)\n\u001b[1;32m    509\u001b[0m _checkMixedSegment(mol)\n\u001b[1;32m    511\u001b[0m \u001b[39m# Convert lipids to AMBER naming\u001b[39;00m\n",
      "File \u001b[0;32m~/anaconda3/envs/pocketoptimizer/lib/python3.10/site-packages/moleculekit/util.py:254\u001b[0m, in \u001b[0;36m_missingSegID\u001b[0;34m(mol)\u001b[0m\n\u001b[1;32m    252\u001b[0m     \u001b[39mraise\u001b[39;00m \u001b[39mRuntimeError\u001b[39;00m(\u001b[39m\"\u001b[39m\u001b[39mAtoms \u001b[39m\u001b[39m\"\u001b[39m \u001b[39m+\u001b[39m \u001b[39mstr\u001b[39m(idx) \u001b[39m+\u001b[39m \u001b[39m\"\u001b[39m\u001b[39m do not have a segid defined.\u001b[39m\u001b[39m\"\u001b[39m)\n\u001b[1;32m    253\u001b[0m \u001b[39melse\u001b[39;00m:\n\u001b[0;32m--> 254\u001b[0m     \u001b[39mraise\u001b[39;00m \u001b[39mRuntimeError\u001b[39;00m(\n\u001b[1;32m    255\u001b[0m         \u001b[39m\"\u001b[39m\u001b[39mAtoms [\u001b[39m\u001b[39m\"\u001b[39m\n\u001b[1;32m    256\u001b[0m         \u001b[39m+\u001b[39m \u001b[39mstr\u001b[39m(idx[\u001b[39m0\u001b[39m])\n\u001b[1;32m    257\u001b[0m         \u001b[39m+\u001b[39m \u001b[39m\"\u001b[39m\u001b[39m,\u001b[39m\u001b[39m\"\u001b[39m\n\u001b[1;32m    258\u001b[0m         \u001b[39m+\u001b[39m \u001b[39mstr\u001b[39m(idx[\u001b[39m1\u001b[39m])\n\u001b[1;32m    259\u001b[0m         \u001b[39m+\u001b[39m \u001b[39m\"\u001b[39m\u001b[39m,...,\u001b[39m\u001b[39m\"\u001b[39m\n\u001b[1;32m    260\u001b[0m         \u001b[39m+\u001b[39m \u001b[39mstr\u001b[39m(idx[\u001b[39m-\u001b[39m\u001b[39m1\u001b[39m])\n\u001b[1;32m    261\u001b[0m         \u001b[39m+\u001b[39m \u001b[39m\"\u001b[39m\u001b[39m] do not have segid defined.\u001b[39m\u001b[39m\"\u001b[39m\n\u001b[1;32m    262\u001b[0m     )\n",
      "\u001b[0;31mRuntimeError\u001b[0m: Atoms [0,1,...,1679] do not have segid defined."
     ]
    }
   ],
   "source": [
    "\n",
    "design.prepare_protein(\n",
    "    protein_structure='4k2y_protein.pdb',  # Input PDB\n",
    "    keep_chains=['A'],  # Specific protein chain to keep\n",
    "    backbone_restraint=True, # Restrains the backbone during the minimization\n",
    "    cuda=False,              # Performs minimization on CPU instead of GPU\n",
    "    discard_mols=[]          # Special molecules to exclude. Per default everything, but peptides have to be defined manually\n",
    "    )"
   ]
  }
 ],
 "metadata": {
  "kernelspec": {
   "display_name": "chilife",
   "language": "python",
   "name": "python3"
  },
  "language_info": {
   "codemirror_mode": {
    "name": "ipython",
    "version": 3
   },
   "file_extension": ".py",
   "mimetype": "text/x-python",
   "name": "python",
   "nbconvert_exporter": "python",
   "pygments_lexer": "ipython3",
   "version": "3.10.13"
  }
 },
 "nbformat": 4,
 "nbformat_minor": 2
}
